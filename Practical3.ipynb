{
  "nbformat": 4,
  "nbformat_minor": 0,
  "metadata": {
    "colab": {
      "provenance": [],
      "authorship_tag": "ABX9TyOaxn5HdqVa0rDVIRRycaNS",
      "include_colab_link": true
    },
    "kernelspec": {
      "name": "python3",
      "display_name": "Python 3"
    },
    "language_info": {
      "name": "python"
    }
  },
  "cells": [
    {
      "cell_type": "markdown",
      "metadata": {
        "id": "view-in-github",
        "colab_type": "text"
      },
      "source": [
        "<a href=\"https://colab.research.google.com/github/hg210704/AdvanceAI-Practical/blob/main/Practical3.ipynb\" target=\"_parent\"><img src=\"https://colab.research.google.com/assets/colab-badge.svg\" alt=\"Open In Colab\"/></a>"
      ]
    },
    {
      "cell_type": "code",
      "execution_count": 1,
      "metadata": {
        "colab": {
          "base_uri": "https://localhost:8080/"
        },
        "id": "-QNo87bjrydW",
        "outputId": "9e03cb65-5310-4b7d-a72e-2cf5a7166dda"
      },
      "outputs": [
        {
          "output_type": "stream",
          "name": "stdout",
          "text": [
            "Inferred Knowledge: {B, C}\n"
          ]
        }
      ],
      "source": [
        "from sympy import symbols, Implies, And, Or, Not, simplify_logic\n",
        "\n",
        "class LogicLearningSystem:\n",
        "    def __init__(self):\n",
        "        self.rules = []\n",
        "        self.examples = []\n",
        "\n",
        "    def add_rule(self, rule):\n",
        "        self.rules.append(rule)\n",
        "\n",
        "    def add_example(self, example):\n",
        "        self.examples.append(example)\n",
        "\n",
        "    def infer(self):\n",
        "        inferred_knowledge = set()\n",
        "        for rule in self.rules:\n",
        "            for example in self.examples:\n",
        "                if isinstance(rule, Implies) and example == rule.args[0]:\n",
        "                    inferred_knowledge.add(rule.args[1])\n",
        "        return inferred_knowledge\n",
        "\n",
        "A, B, C = symbols('A B C')\n",
        "\n",
        "system = LogicLearningSystem()\n",
        "system.add_rule(Implies(A, B))\n",
        "system.add_rule(Implies(B, C))\n",
        "\n",
        "system.add_example(A)\n",
        "system.add_example(B)\n",
        "inferred = system.infer()\n",
        "print(\"Inferred Knowledge:\", inferred)\n"
      ]
    }
  ]
}